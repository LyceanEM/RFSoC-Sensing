{
 "cells": [
  {
   "cell_type": "markdown",
   "id": "bfe95c24-76e6-4418-ba0b-f082021572ba",
   "metadata": {
    "tags": []
   },
   "source": [
    "# The RFSoC QSFP offload client notebook\n",
    "---\n",
    "<div class=\"alert alert-box alert-info\">\n",
    "Please use Jupyter labs http://board_ip_address/lab for this notebook.\n",
    "</div>\n",
    "\n",
    "## Overview\n",
    "> The RFSoC QSFP offload client notebook contains an example implementation of an UDP client to receive data from the RFSoC4x2 board. We can receive data from either the RF-ADC or the PS via the QSFP connection. In this notebook we first receive data from the RF-ADC and plot it in the frequency domain. We then go on to receive data from the PS.\n",
    "\n",
    "## Aims\n",
    "* To receive data from the RFSoC through QSFP network interface.\n",
    "* To act as an example of UDP client implementation.\n",
    "* Demonstrate compatibility with Python UDP socket interface.\n",
    "\n",
    "## Last Revised\n",
    "* 08/07/22 - Updated code and text\n",
    "* 30 June 2022 - Initial Revision\n",
    "---\n",
    "\n",
    "This overlay requires two notebooks to operate: a board notebook, to be run on the RFSoC board, and a client notebook (this one), which must be run on the PC/server that is connected to the board via the QSFP28 connection.\n",
    "\n",
    "Before we start, make sure this notebook is downloaded onto your PC/server and opened in Jupyter-Lab. \n",
    "\n",
    "We will be jumping between the board and client notebooks throughout this example, so it is best to have them both open in separate browser windows. In this notebook any commands that are required to be run on the board side will be preceded by a <span style=\"color:orange\">**orange**</span> alert box, while any commands to be run on the client will be preceded by a <span style=\"color:green\">**green**</span> alert box. All main section headings are identical between board and client notebooks and are numbered to make it easier to follow through the different steps.\n",
    "\n",
    "---\n",
    "\n",
    "<div class=\"alert alert-box alert-warning\">\n",
    "The following steps are to be executed on the board.\n",
    "</div>\n",
    "\n",
    "## 1. Board Setup\n",
    "\n",
    "Run the cells in the board notebook to download the overlay and setup the CMAC.\n",
    "\n",
    "---\n",
    "\n",
    "<div class=\"alert alert-box alert-success\">\n",
    "The following steps are to be executed on the client.\n",
    "</div>\n",
    "\n",
    "## 2. Client Setup\n",
    "\n",
    "Set up the QSFP NIC on the PC/server to have a static IP address. In this example we use `192.168.4.1` for the client side, and `192.168.4.99` for the board. Change accordingly if these conflict with any other IPs on your network.\n",
    "\n",
    "Run the supplied `qsfp_setup.sh` script on the client side (with super user privilages) or manually configure your QSFP network card for:\n",
    "\n",
    "* Link Mode to forced 100G\n",
    "* FEC to RS (RS-FEC)\n",
    "* FEC speed to 100G\n",
    "\n",
    "Additionally, if available, set Maximum Transmission Unit (MTU) to 9000 in your network manager settings. This will allow the use of jumbo frames.\n",
    "\n",
    "---\n",
    "\n",
    "<div class=\"alert alert-box alert-warning\">\n",
    "The following steps are to be executed on the board.\n",
    "</div>\n",
    "\n",
    "## 3. Configuring the Overlay\n",
    "\n",
    "On the board, set up the Netlayer IP to configure the network settings and set up a socket, then set up the RF data converters. \n",
    "\n",
    "---\n",
    "\n",
    "<div class=\"alert alert-box alert-success\">\n",
    "The following steps are to be executed on the client.\n",
    "</div>\n",
    "\n",
    "## 4. Receiving RF Data\n",
    "\n",
    "We can now set up the connection to the socket and start receving data!\n",
    "\n",
    "### Setup the Socket\n",
    "\n",
    "First we need to connect to the open UDP socket on the RFSoC4x2 development board. "
   ]
  },
  {
   "cell_type": "code",
   "execution_count": null,
   "id": "a4ebfa21-bd79-4b42-8619-45a9214c921d",
   "metadata": {},
   "outputs": [],
   "source": [
    "import socket\n",
    "\n",
    "udp_port = 60133\n",
    "client_ip = \"192.168.4.1\"\n",
    "\n",
    "s = socket.socket(socket.AF_INET, socket.SOCK_DGRAM)\n",
    "s.settimeout(3)\n",
    "s.bind((client_ip, udp_port))"
   ]
  },
  {
   "cell_type": "markdown",
   "id": "c1e1c401-482d-4c55-b9d3-d0401a766f4b",
   "metadata": {},
   "source": [
    "### Getting the Data\n",
    "\n",
    "To receive data we need to first grab a UDP packet, then perform an FFT so we can visualise the data in the frequency domain. To do this we create three helper functions, `get_data()`, `de_interleave()`, and `compute_fft()`.\n",
    "\n",
    "The `get_data()` function first grabs a UDP frame and converts the buffer from bytes to 16-bit integers. \n",
    "\n",
    "The `de_interleave()` function de-interleaves the data, separating out the I and Q (real and imaginary) components.\n",
    "\n",
    "The `compute_fft()` function applies a window to the I and Q signals and then performs an FFT."
   ]
  },
  {
   "cell_type": "code",
   "execution_count": null,
   "id": "bd2da149-cd04-41de-8f9b-cef0711d1a3d",
   "metadata": {},
   "outputs": [],
   "source": [
    "import numpy as np\n",
    "\n",
    "def compute_fft(data):\n",
    "    # Apply a window to the data first\n",
    "    re = data[0]*np.blackman(data[0].size)\n",
    "    im = data[1]*np.blackman(data[1].size)\n",
    "    \n",
    "    # Compute FFT if data is not zero-valued\n",
    "    if (np.any(re) or np.any(im)):\n",
    "        fdata = np.fft.fftshift(np.fft.fft(re+1j*im))\n",
    "        pdata = abs(fdata)\n",
    "        ldata = 20*np.where(pdata>0, np.log10(pdata), np.log10(2**-15))\n",
    "        normalised = ldata - ldata.max() # dBc\n",
    "        return normalised\n",
    "    # Otherwise just return zero-valued data\n",
    "    else:\n",
    "        return re\n",
    "    \n",
    "def de_interleave(data):\n",
    "    re_int16 = data[::2]\n",
    "    im_int16 = data[1::2]\n",
    "    \n",
    "    return (re_int16, im_int16)\n",
    "    \n",
    "def get_data(num_bytes):\n",
    "    # Attempt to grab data.\n",
    "    try:\n",
    "        data = s.recv(num_bytes)\n",
    "    # If socket timeout then just return zero values\n",
    "    except socket.error:\n",
    "        data = np.zeros(num_bytes, dtype=np.uint8)\n",
    "    \n",
    "    # Format data buffer into int16s\n",
    "    iq_int16 = np.frombuffer(data, dtype=np.int16)\n",
    "    \n",
    "    return iq_int16"
   ]
  },
  {
   "cell_type": "markdown",
   "id": "0902ebde-04d2-4fd4-ad00-fe0661d6d63d",
   "metadata": {},
   "source": [
    "Now we can create a figure object using Plotly and fill it with an initial frame of data"
   ]
  },
  {
   "cell_type": "code",
   "execution_count": null,
   "id": "23958a6e-2f4e-417f-a2e8-4a222ec44ae7",
   "metadata": {},
   "outputs": [],
   "source": [
    "import plotly.graph_objs as go\n",
    "\n",
    "fs = 2457.6e6\n",
    "\n",
    "y_data = compute_fft(de_interleave(get_data(9000)))\n",
    "x_data = np.linspace(-fs/2, fs/2, y_data.size, endpoint=False) + 1228.8e6\n",
    "\n",
    "fft_fig = go.FigureWidget(go.Scatter(y=y_data, x=x_data))"
   ]
  },
  {
   "cell_type": "markdown",
   "id": "e615548c-7e27-4684-988e-8ed4a46468bf",
   "metadata": {},
   "source": [
    "Next we need to set up a method of streaming the data continuously. For this we use the Python `threading` library to set up a concurrent process. This allows us to still use this notebook while we are grabbing and visualising the data. Below we create four functions: `update_fig()`, `do()`, `start()`, and `stop()`.\n",
    "\n",
    "`update_fig()` determines how often we grab data and update the plot. The `t` variable at the top of the cell is set to 0.2, which means a new UDP packet is retreived every 200 ms. The `num_bytes` variable at the top of the cell determines how maby bytes of data we receive for each packet. For jumbo frames use a buffer size of 9000, otherwise use 1024.\n",
    "\n",
    "The `start()` and `stop()` functions allow us to quickly and easily start and stop the processes that run in `do()`. `start()` is also responsible for creating a concurrent thread."
   ]
  },
  {
   "cell_type": "code",
   "execution_count": null,
   "id": "9fcfed79-1272-4eeb-87f0-7b969563264c",
   "metadata": {},
   "outputs": [],
   "source": [
    "t = 0.2 # seconds\n",
    "num_bytes = 9000 # bytes\n",
    "\n",
    "import threading\n",
    "import time\n",
    "\n",
    "stopping = True # do not change this variable\n",
    "\n",
    "def update_fig():\n",
    "    while not stopping:\n",
    "        next_timer = time.time() + t\n",
    "        data = de_interleave(get_data(num_bytes))\n",
    "        data_fft = compute_fft(data)\n",
    "        fft_fig.data[0]['y'] = data_fft\n",
    "        sleep_time = next_timer - time.time()\n",
    "        if sleep_time > 0:\n",
    "            time.sleep(sleep_time)\n",
    "            \n",
    "def start():\n",
    "    global stopping\n",
    "    if stopping:\n",
    "        stopping = False\n",
    "        thread = threading.Thread(target=update_fig)\n",
    "        thread.start()\n",
    "        \n",
    "def stop():\n",
    "    global stopping\n",
    "    stopping = True"
   ]
  },
  {
   "cell_type": "markdown",
   "id": "7bf4a4fc-a394-4c03-8ec7-c9421089b2f7",
   "metadata": {
    "tags": []
   },
   "source": [
    "### Plot the received data\n",
    "\n",
    "Now we've set up our methods to receive, format, process and stream the data, we can now plot it in the frequency domain.\n",
    "\n",
    "First we draw the figure we created earlier."
   ]
  },
  {
   "cell_type": "code",
   "execution_count": null,
   "id": "762aef08-465c-44d5-9793-d06fc52aede2",
   "metadata": {},
   "outputs": [],
   "source": [
    "x_ticks = [400e6, 800e6, 1200e6, 1600e6, 2000e6, fs]\n",
    "fft_fig.update_layout(\n",
    "    yaxis_title=\"Magnitude (dBc)\",\n",
    "    xaxis_title=\"Frequency (MHz)\",\n",
    "    yaxis_range=[-90,5],\n",
    "    xaxis_range=[0,fs],\n",
    "    xaxis_tickvals=x_ticks,\n",
    "    xaxis_ticktext=[\"{:.1f}\".format(i/1e6) for i in x_ticks]\n",
    ")"
   ]
  },
  {
   "cell_type": "markdown",
   "id": "ad0d58c9-3c3a-4782-b529-ab6b910c4ee2",
   "metadata": {},
   "source": [
    "Now we can use the `start()` function to continuously stream the data!"
   ]
  },
  {
   "cell_type": "code",
   "execution_count": null,
   "id": "42902bf5-dff3-4d8c-a512-1dbe15ae10f7",
   "metadata": {},
   "outputs": [],
   "source": [
    "start()"
   ]
  },
  {
   "cell_type": "markdown",
   "id": "1d7261be-5687-4818-b8ee-2163ac212f58",
   "metadata": {},
   "source": [
    "---\n",
    "\n",
    "<div class=\"alert alert-box alert-warning\">\n",
    "The following steps are to be executed on the board.\n",
    "</div>\n",
    "\n",
    "## 5. Generating a Signal\n",
    "\n",
    "Return to the board notebook and generate a signal to send to the RF-ADC. The plot should automatically update when the signal is received. Note that it may take a few seconds before a signal shows as the old data is cleared from the buffer. Remember, there's a lot of data being transferred and we're not updating at full speed so not to overload the client!\n",
    "\n",
    "---\n",
    "\n",
    "<div class=\"alert alert-box alert-success\">\n",
    "The following steps are to be executed on the client.\n",
    "</div>\n",
    "\n",
    "## 6. Stop Receiving Data\n",
    "\n",
    "We can now stop plotting the data from the RF-ADC and instead receive a UDP packet sent from the PS instead."
   ]
  },
  {
   "cell_type": "code",
   "execution_count": null,
   "id": "9e8f1671-8934-4a1d-8c09-d8e01a6990e8",
   "metadata": {},
   "outputs": [],
   "source": [
    "stop()"
   ]
  },
  {
   "cell_type": "markdown",
   "id": "ae053a1c-3de0-447d-bdb2-b69f382c643f",
   "metadata": {},
   "source": [
    "---\n",
    "\n",
    "<div class=\"alert alert-box alert-warning\">\n",
    "The following steps are to be executed on the board.\n",
    "</div>\n",
    "\n",
    "## 7. Sending Data from the PS\n",
    "\n",
    "Follow the steps in the board notebook to generate and send the ramp signal.\n",
    "\n",
    "---\n",
    "\n",
    "<div class=\"alert alert-box alert-success\">\n",
    "The following steps are to be executed on the client.\n",
    "</div>\n",
    "\n",
    "## 8. Receving Data from the PS\n",
    "\n",
    "We can now grab the data and plot it in a new figure object."
   ]
  },
  {
   "cell_type": "code",
   "execution_count": null,
   "id": "c2d3c04c-f912-4096-b3b7-f522bec46709",
   "metadata": {},
   "outputs": [],
   "source": [
    "y_data = get_data(num_bytes)\n",
    "x_data = np.arange(y_data.size)\n",
    "\n",
    "time_fig = go.FigureWidget(go.Scatter(y=y_data, x=x_data))\n",
    "time_fig"
   ]
  },
  {
   "cell_type": "markdown",
   "id": "ee71cfdd-e528-46fb-92be-f2e353a2a606",
   "metadata": {},
   "source": [
    "There may be some residual data from the previous section still in the buffer so you may need to refresh the plot a few times to get the correct data. Run the cell below as many times as you need and it should update the plot automatically. \n",
    "\n",
    "Note that, if you run the cell too many times, there may be no data to receive, causing the socket to timeout after a few seconds. In this case the data will be written as zero values instead."
   ]
  },
  {
   "cell_type": "code",
   "execution_count": null,
   "id": "63e9ad37-df8b-4149-961d-3f252adb7204",
   "metadata": {},
   "outputs": [],
   "source": [
    "y_data = get_data(num_bytes)\n",
    "time_fig.data[0]['y'] = y_data"
   ]
  },
  {
   "attachments": {},
   "cell_type": "markdown",
   "id": "f51c773b-3a52-4bef-b870-cd8f0fa2765b",
   "metadata": {},
   "source": [
    "---\n",
    "\n",
    "## GNU Radio demo\n",
    "Jump to [rfsoc_qsfp/gnuradio](https://github.com/strath-sdr/rfsoc_qsfp_offload/tree/master/gnuradio) to explore the alternative GNU Radio demo.\n",
    "\n",
    "## Conclusion\n",
    "\n",
    "This notebook has shown how to receive data send by the RFSoC offload overlay using standard Python networking libraries."
   ]
  }
 ],
 "metadata": {
  "kernelspec": {
   "display_name": "Python 3",
   "language": "python",
   "name": "python3"
  },
  "language_info": {
   "codemirror_mode": {
    "name": "ipython",
    "version": 3
   },
   "file_extension": ".py",
   "mimetype": "text/x-python",
   "name": "python",
   "nbconvert_exporter": "python",
   "pygments_lexer": "ipython3",
   "version": "3.6.9"
  }
 },
 "nbformat": 4,
 "nbformat_minor": 5
}
